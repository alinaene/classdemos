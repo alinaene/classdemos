{
 "cells": [
  {
   "cell_type": "code",
   "execution_count": 13,
   "metadata": {},
   "outputs": [],
   "source": [
    "# CS 237 Spring 2019\n",
    "# Author: Alina Ene (aene@bu.edu)\n",
    "# Used in L26"
   ]
  },
  {
   "cell_type": "code",
   "execution_count": 14,
   "metadata": {},
   "outputs": [],
   "source": [
    "# imports\n",
    "import numpy as np\n",
    "from numpy.random import randint\n",
    "import matplotlib.pyplot as plt\n",
    "plt.style.use('seaborn')"
   ]
  },
  {
   "cell_type": "markdown",
   "metadata": {},
   "source": [
    "# CS 237: Reservoir sampling\n",
    "\n",
    "This notebook provides a brief introduction to data streams and randomized algorithms. Specifically, we will study the problem of sampling an item uniformly at random from a data stream. The algorithm we will describe is called reservoir sampling and it is an important tool in Computer Science and beyond (see [this wikipedia page](https://en.wikipedia.org/wiki/Reservoir_sampling))."
   ]
  },
  {
   "cell_type": "markdown",
   "metadata": {},
   "source": [
    "## Data streams\n",
    "\n",
    "A data stream is an extremely long sequence of items that you can only read only once, in order. A good example of a data stream is the sequence of packets that pass through a router. Here we will assume that we can get the stream items one by one by calling:\n",
    "\n",
    "```\n",
    "x = next_stream_element() # returns next element in the stream\n",
    "```\n",
    "\n",
    "Here is a small example of a stream that we will use as a test case."
   ]
  },
  {
   "cell_type": "code",
   "execution_count": 28,
   "metadata": {},
   "outputs": [],
   "source": [
    "# example stream: 1, 2, 3, ..., 100\n",
    "N = 0\n",
    "maxN = 100\n",
    "\n",
    "def stream_initialize():\n",
    "    global N\n",
    "    N = 0\n",
    "\n",
    "def next_stream_element():\n",
    "    global N, maxN\n",
    "    if N == maxN:\n",
    "        return '#'\n",
    "    N = N + 1\n",
    "    return N\n",
    "\n",
    "# try a longer stream (change maxN)"
   ]
  },
  {
   "cell_type": "markdown",
   "metadata": {},
   "source": [
    "## Data stream algorithms\n",
    "\n",
    "Data stream algorithms must process each item in the stream quickly, using very little memory; there is simply too much data to store, and it arrives too quickly for any complex computations. Every data stream algorithm looks roughly like this:\n",
    "\n",
    "```\n",
    "def do_something_interesting():\n",
    "  while True:\n",
    "    x = next_stream_element() # returns next element in the stream\n",
    "    if x == '#'  # end of stream marker\n",
    "      break\n",
    "    do something interesting with x\n",
    "  return something\n",
    "```"
   ]
  },
  {
   "cell_type": "markdown",
   "metadata": {},
   "source": [
    "## Reservoir sampling algorithm\n",
    "\n",
    "The algorithmic task that we want to solve is the following:\n",
    " > Choose one item uniformly at random from a data stream, **without knowing the length of the stream in advance**\n",
    "\n",
    "We now describe an algorithm for this task. Note that the algorithm processes each item very quickly: it spends O(1) time per stream element. It also uses very little memory: it stores only one stream item and a counter that counts the number of stream items that have arrived so far."
   ]
  },
  {
   "cell_type": "code",
   "execution_count": 16,
   "metadata": {},
   "outputs": [],
   "source": [
    "# reservoir sampling algorithm\n",
    "def stream_sample():\n",
    "    n = 0 # number of stream items seen so far\n",
    "    s = 0 # sampled item\n",
    "    while True:\n",
    "        x = next_stream_element() # get next stream item\n",
    "        if x == '#': # end of stream\n",
    "            break\n",
    "        n = n + 1\n",
    "        r = randint(1, n + 1) # replace s with x with probability 1/n\n",
    "        if r == n: \n",
    "            s = x\n",
    "    return s"
   ]
  },
  {
   "cell_type": "code",
   "execution_count": 22,
   "metadata": {},
   "outputs": [
    {
     "name": "stdout",
     "output_type": "stream",
     "text": [
      "90\n"
     ]
    }
   ],
   "source": [
    "# trial run on the example stream above\n",
    "stream_initialize()\n",
    "print(stream_sample())"
   ]
  },
  {
   "cell_type": "markdown",
   "metadata": {
    "collapsed": true
   },
   "source": [
    "Let us now test the algorithm. We will perform 10000 trial runs of the reservoir sampling algorithm on the example stream (see above) and plot the empirical distribution of the sampled item. Note that, if the algorithm is correct, the theoretical distribution is uniform over the data stream, i.e., each item has probability 1/n of being sampled, where n is the length of the stream."
   ]
  },
  {
   "cell_type": "code",
   "execution_count": 26,
   "metadata": {},
   "outputs": [],
   "source": [
    "# test the reservoir sampling algorithm\n",
    "def test(num_trials = 100000):\n",
    "    count = {}\n",
    "    x = []\n",
    "    for i in range(num_trials):\n",
    "        stream_initialize()\n",
    "        s = stream_sample()\n",
    "        if s in count:\n",
    "            count[s] = count[s] + 1\n",
    "        else:\n",
    "            x.append(s)\n",
    "            count[s] = 1\n",
    "\n",
    "    # empirical probabilities    \n",
    "    y = [count[s] / num_trials for s in x]\n",
    "    \n",
    "    # plot the probabilities\n",
    "    plt.figure(figsize=(18,5))\n",
    "    plt.bar(x,y)\n",
    "    plt.xlabel(\"Item\")\n",
    "    plt.ylabel(\"Probability\")\n",
    "    plt.plot(x,[1.0/len(x) for i in x], label='1/n', c='r')\n",
    "    plt.title(\"Probability of sampling each item\",fontsize=20)\n",
    "    plt.legend(loc=2)\n",
    "    plt.show()"
   ]
  },
  {
   "cell_type": "code",
   "execution_count": 27,
   "metadata": {},
   "outputs": [
    {
     "data": {
      "image/png": "[encoded data removed]",
      "text/plain": [
       "<Figure size 1296x360 with 1 Axes>"
      ]
     },
     "metadata": {},
     "output_type": "display_data"
    }
   ],
   "source": [
    "test()"
   ]
  }
 ],
 "metadata": {
  "kernelspec": {
   "display_name": "Python 3",
   "language": "python",
   "name": "python3"
  },
  "language_info": {
   "codemirror_mode": {
    "name": "ipython",
    "version": 3
   },
   "file_extension": ".py",
   "mimetype": "text/x-python",
   "name": "python",
   "nbconvert_exporter": "python",
   "pygments_lexer": "ipython3",
   "version": "3.6.8"
  }
 },
 "nbformat": 4,
 "nbformat_minor": 2
}
